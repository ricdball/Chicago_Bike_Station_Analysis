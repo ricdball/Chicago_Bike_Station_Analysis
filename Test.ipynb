{
 "cells": [
  {
   "cell_type": "markdown",
   "id": "92571f90-28e9-4333-9729-ef5d2e67385f",
   "metadata": {},
   "source": [
    "# Test push"
   ]
  },
  {
   "cell_type": "code",
   "execution_count": null,
   "id": "2d0360fe-1ee8-4438-8be7-d5f3c10b3101",
   "metadata": {},
   "outputs": [],
   "source": []
  }
 ],
 "metadata": {
  "kernelspec": {
   "display_name": "Python [conda env:base] *",
   "language": "python",
   "name": "conda-base-py"
  },
  "language_info": {
   "codemirror_mode": {
    "name": "ipython",
    "version": 3
   },
   "file_extension": ".py",
   "mimetype": "text/x-python",
   "name": "python",
   "nbconvert_exporter": "python",
   "pygments_lexer": "ipython3",
   "version": "3.11.7"
  }
 },
 "nbformat": 4,
 "nbformat_minor": 5
}
